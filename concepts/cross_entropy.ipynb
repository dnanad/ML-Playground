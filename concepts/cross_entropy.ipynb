{
 "cells": [
  {
   "cell_type": "markdown",
   "metadata": {},
   "source": [
    "<a target=\"_blank\" href=\"https://colab.research.google.com/github/dnanad/ML-Playground/blob/main/concepts/cross_entropy.ipynb\">\n",
    "  <img src=\"https://colab.research.google.com/assets/colab-badge.svg\" alt=\"Open In Colab\"/>\n",
    "</a>"
   ]
  },
  {
   "cell_type": "markdown",
   "metadata": {},
   "source": [
    "## PyTorch\n",
    "\n",
    "1. Binary cross Entropy using Pytorch"
   ]
  },
  {
   "cell_type": "code",
   "execution_count": 1,
   "metadata": {},
   "outputs": [
    {
     "name": "stdout",
     "output_type": "stream",
     "text": [
      "tensor([ 0.7855,  0.6441, -2.3788,  0.4390, -0.0964, -0.5358, -0.4945, -0.3326,\n",
      "         1.6942,  0.4703])\n",
      "tensor([0., 0., 0., 0., 1., 1., 0., 1., 0., 1.])\n"
     ]
    }
   ],
   "source": [
    "import torch\n",
    "import torch.nn as nn\n",
    "\n",
    "# PyTorch random to generate the input features(X) and labels(y) values.\n",
    "\n",
    "X = torch.randn(10)\n",
    "y = torch.randint(2, (10,), dtype=torch.float)\n",
    "print(X)\n",
    "print(y)"
   ]
  },
  {
   "cell_type": "code",
   "execution_count": 3,
   "metadata": {},
   "outputs": [
    {
     "name": "stdout",
     "output_type": "stream",
     "text": [
      "tensor([0.8155, 0.6302, 0.8245, 0.6592, 0.5762, 0.6431, 0.5093, 0.4953, 0.4907,\n",
      "        0.7651])\n"
     ]
    }
   ],
   "source": [
    "# sigmoid function as the activation function of the inputs.\n",
    "# pass the PyTorch sigmoid module to our input(X) features.\n",
    "\n",
    "X_continous_values = torch.sigmoid(X)\n",
    "print(X_continous_values)"
   ]
  },
  {
   "cell_type": "code",
   "execution_count": 4,
   "metadata": {},
   "outputs": [
    {
     "name": "stdout",
     "output_type": "stream",
     "text": [
      "tensor(0.9344)\n"
     ]
    }
   ],
   "source": [
    "# Pytorch Binary Cross-Entropy loss:\n",
    "\n",
    "loss = nn.BCELoss()(X_continous_values, y)\n",
    "print(loss)"
   ]
  },
  {
   "cell_type": "markdown",
   "metadata": {},
   "source": [
    "2. Categorical Cross Entropy using Pytorch\n",
    "\n",
    "-  categorical Cross-Entropy module, the softmax activation function has already been applied to the formula, so need to use an activation function\n",
    "- a multi-class problem, the input features have five classes(class_0, class_1, class_2, class_3, class_4)\n",
    "- input features(X) and labels(y)\n"
   ]
  },
  {
   "cell_type": "code",
   "execution_count": 7,
   "metadata": {},
   "outputs": [
    {
     "name": "stdout",
     "output_type": "stream",
     "text": [
      "tensor([[ 0.5104,  0.7656, -2.4041,  1.0598, -0.4766],\n",
      "        [-2.0465,  0.2777,  0.1400, -1.3790, -0.6619],\n",
      "        [-0.7444,  0.1774, -0.1620, -0.5327, -0.6141],\n",
      "        [-0.5336,  1.3594,  1.0221, -0.5135,  1.2082],\n",
      "        [-0.7437,  0.5133,  0.8821, -0.0938,  0.5299],\n",
      "        [ 0.5208,  2.2355, -0.0859,  1.0182, -0.4713],\n",
      "        [ 0.7050,  0.5397, -0.2982,  0.6093,  0.7362],\n",
      "        [ 0.1844,  0.0647, -1.4266,  0.3292,  0.2872],\n",
      "        [ 0.1275, -1.0810, -1.9952,  1.0795, -0.4866],\n",
      "        [-0.1119,  0.2798,  0.1231, -0.1325,  0.9417]])\n"
     ]
    }
   ],
   "source": [
    "X = torch.randn(10, 5)\n",
    "print(X)"
   ]
  },
  {
   "cell_type": "code",
   "execution_count": 8,
   "metadata": {},
   "outputs": [
    {
     "name": "stdout",
     "output_type": "stream",
     "text": [
      "tensor([2, 2, 3, 4, 4, 2, 1, 3, 2, 4])\n"
     ]
    }
   ],
   "source": [
    "y = torch.randint(5, (10,))\n",
    "print(y)"
   ]
  },
  {
   "cell_type": "code",
   "execution_count": 9,
   "metadata": {},
   "outputs": [
    {
     "name": "stdout",
     "output_type": "stream",
     "text": [
      "tensor(2.0300)\n"
     ]
    }
   ],
   "source": [
    "# The multi-class cross-entropy is calculated as follows:\n",
    "\n",
    "loss = nn.CrossEntropyLoss()(X, y)\n",
    "print(loss)"
   ]
  },
  {
   "cell_type": "markdown",
   "metadata": {},
   "source": [
    "## TensorFlow\n",
    "1. Binary Cross Entropy:\n"
   ]
  },
  {
   "cell_type": "code",
   "execution_count": 16,
   "metadata": {},
   "outputs": [],
   "source": [
    "import tensorflow as tf\n",
    "\n",
    "\n",
    "actual_values = [0, 1, 0, 0, 0, 0]\n",
    "predicted_values = [0.5, 0.7, 0.2, 0.3, 0.5, 0.6]"
   ]
  },
  {
   "cell_type": "code",
   "execution_count": 14,
   "metadata": {},
   "outputs": [
    {
     "name": "stdout",
     "output_type": "stream",
     "text": [
      "<bound method _EagerTensorBase.numpy of <tf.Tensor: shape=(), dtype=float32, numpy=0.5398464>>\n"
     ]
    }
   ],
   "source": [
    "loss = tf.keras.losses.BinaryCrossentropy()(actual_values, predicted_values)\n",
    "print(loss.numpy)"
   ]
  },
  {
   "cell_type": "markdown",
   "metadata": {},
   "source": [
    "2. Categorical Cross-Entropy\n",
    "\n",
    "Let’s say we have three classes(cat, dog, bear) to predict. Our actual image/class is a dog; therefore, we have theoretically (0, 1, 0). Where 1 represents the actual image and 0, where the image is not a dog. Our values will be:"
   ]
  },
  {
   "cell_type": "code",
   "execution_count": 20,
   "metadata": {},
   "outputs": [
    {
     "name": "stdout",
     "output_type": "stream",
     "text": [
      "<bound method _EagerTensorBase.numpy of <tf.Tensor: shape=(), dtype=float32, numpy=0.1625189>>\n"
     ]
    }
   ],
   "source": [
    "actual_values = [0, 1, 0]\n",
    "\n",
    "# Hypothetically the model predicts that the image is 5% likely to be a cat, 85% a dog, and 10% a bear. Then our predicted values will be:\n",
    "\n",
    "predicted_values = [0.05, 0.85, 0.10]\n",
    "\n",
    "actual_values = tf.convert_to_tensor(actual_values)\n",
    "predicted_values = tf.convert_to_tensor(predicted_values)\n",
    "\n",
    "\n",
    "loss = tf.keras.losses.CategoricalCrossentropy()\n",
    "loss = loss(actual_values, predicted_values)\n",
    "print(loss.numpy)"
   ]
  }
 ],
 "metadata": {
  "kernelspec": {
   "display_name": "Python 3",
   "language": "python",
   "name": "python3"
  },
  "language_info": {
   "codemirror_mode": {
    "name": "ipython",
    "version": 3
   },
   "file_extension": ".py",
   "mimetype": "text/x-python",
   "name": "python",
   "nbconvert_exporter": "python",
   "pygments_lexer": "ipython3",
   "version": "3.9.6"
  }
 },
 "nbformat": 4,
 "nbformat_minor": 2
}
